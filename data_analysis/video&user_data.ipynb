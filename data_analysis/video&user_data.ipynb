{
 "cells": [
  {
   "cell_type": "code",
   "execution_count": 2,
   "metadata": {},
   "outputs": [],
   "source": [
    "import numpy as np\n",
    "import pandas as pd\n",
    "import sklearn\n",
    "import matplotlib.pyplot as plt\n",
    "import matplotlib as mpl\n",
    "import seaborn as sns\n",
    "import time\n",
    "import re"
   ]
  },
  {
   "cell_type": "markdown",
   "metadata": {},
   "source": [
    "# 视频信息"
   ]
  },
  {
   "cell_type": "code",
   "execution_count": 3,
   "metadata": {},
   "outputs": [
    {
     "data": {
      "text/plain": [
       "(4250105, 5)"
      ]
     },
     "execution_count": 3,
     "metadata": {},
     "output_type": "execute_result"
    }
   ],
   "source": [
    "video = pd.read_csv('../data/video_related_data.csv')\n",
    "video.shape"
   ]
  },
  {
   "cell_type": "code",
   "execution_count": 4,
   "metadata": {},
   "outputs": [
    {
     "data": {
      "text/html": [
       "<div>\n",
       "<style scoped>\n",
       "    .dataframe tbody tr th:only-of-type {\n",
       "        vertical-align: middle;\n",
       "    }\n",
       "\n",
       "    .dataframe tbody tr th {\n",
       "        vertical-align: top;\n",
       "    }\n",
       "\n",
       "    .dataframe thead th {\n",
       "        text-align: right;\n",
       "    }\n",
       "</style>\n",
       "<table border=\"1\" class=\"dataframe\">\n",
       "  <thead>\n",
       "    <tr style=\"text-align: right;\">\n",
       "      <th></th>\n",
       "      <th>item_id</th>\n",
       "      <th>duration</th>\n",
       "      <th>father_id</th>\n",
       "      <th>tag_list</th>\n",
       "      <th>cast</th>\n",
       "    </tr>\n",
       "  </thead>\n",
       "  <tbody>\n",
       "    <tr>\n",
       "      <th>0</th>\n",
       "      <td>24403453.0</td>\n",
       "      <td>6.0</td>\n",
       "      <td>NaN</td>\n",
       "      <td>50365080;50338575;50313222;50165986</td>\n",
       "      <td>NaN</td>\n",
       "    </tr>\n",
       "    <tr>\n",
       "      <th>1</th>\n",
       "      <td>22838795.0</td>\n",
       "      <td>7.0</td>\n",
       "      <td>NaN</td>\n",
       "      <td>50001708;50323515;50125414</td>\n",
       "      <td>NaN</td>\n",
       "    </tr>\n",
       "    <tr>\n",
       "      <th>2</th>\n",
       "      <td>24181187.0</td>\n",
       "      <td>5.0</td>\n",
       "      <td>NaN</td>\n",
       "      <td>50181045;50008354;50186586;50097060;50136213;5...</td>\n",
       "      <td>NaN</td>\n",
       "    </tr>\n",
       "    <tr>\n",
       "      <th>3</th>\n",
       "      <td>23549051.0</td>\n",
       "      <td>NaN</td>\n",
       "      <td>NaN</td>\n",
       "      <td>NaN</td>\n",
       "      <td>NaN</td>\n",
       "    </tr>\n",
       "    <tr>\n",
       "      <th>4</th>\n",
       "      <td>20276917.0</td>\n",
       "      <td>8.0</td>\n",
       "      <td>NaN</td>\n",
       "      <td>50286627;50257578;50415463</td>\n",
       "      <td>NaN</td>\n",
       "    </tr>\n",
       "  </tbody>\n",
       "</table>\n",
       "</div>"
      ],
      "text/plain": [
       "      item_id  duration  father_id  \\\n",
       "0  24403453.0       6.0        NaN   \n",
       "1  22838795.0       7.0        NaN   \n",
       "2  24181187.0       5.0        NaN   \n",
       "3  23549051.0       NaN        NaN   \n",
       "4  20276917.0       8.0        NaN   \n",
       "\n",
       "                                            tag_list cast  \n",
       "0                50365080;50338575;50313222;50165986  NaN  \n",
       "1                         50001708;50323515;50125414  NaN  \n",
       "2  50181045;50008354;50186586;50097060;50136213;5...  NaN  \n",
       "3                                                NaN  NaN  \n",
       "4                         50286627;50257578;50415463  NaN  "
      ]
     },
     "execution_count": 4,
     "metadata": {},
     "output_type": "execute_result"
    }
   ],
   "source": [
    "video.head()"
   ]
  },
  {
   "cell_type": "code",
   "execution_count": 5,
   "metadata": {},
   "outputs": [
    {
     "data": {
      "text/plain": [
       "(np.float64(1.0), np.float64(16.0))"
      ]
     },
     "execution_count": 5,
     "metadata": {},
     "output_type": "execute_result"
    }
   ],
   "source": [
    "video['duration'].min(),video['duration'].max()"
   ]
  },
  {
   "cell_type": "markdown",
   "metadata": {},
   "source": [
    "## 缺失值与重复值"
   ]
  },
  {
   "cell_type": "code",
   "execution_count": 6,
   "metadata": {},
   "outputs": [
    {
     "data": {
      "text/plain": [
       "item_id           66\n",
       "duration      364078\n",
       "father_id    2820142\n",
       "tag_list      592337\n",
       "cast         3775461\n",
       "dtype: int64"
      ]
     },
     "execution_count": 6,
     "metadata": {},
     "output_type": "execute_result"
    }
   ],
   "source": [
    "video.isnull().sum() # 缺失严重"
   ]
  },
  {
   "cell_type": "code",
   "execution_count": 7,
   "metadata": {},
   "outputs": [
    {
     "data": {
      "text/plain": [
       "4250105"
      ]
     },
     "execution_count": 7,
     "metadata": {},
     "output_type": "execute_result"
    }
   ],
   "source": [
    "video.drop_duplicates().shape[0]    # 无重复值"
   ]
  },
  {
   "cell_type": "markdown",
   "metadata": {},
   "source": [
    "# 用户画像信息"
   ]
  },
  {
   "cell_type": "code",
   "execution_count": 8,
   "metadata": {},
   "outputs": [
    {
     "data": {
      "text/plain": [
       "(596906, 9)"
      ]
     },
     "execution_count": 8,
     "metadata": {},
     "output_type": "execute_result"
    }
   ],
   "source": [
    "user= pd.read_csv('../data/user_portrait_data.csv')\n",
    "user.shape"
   ]
  },
  {
   "cell_type": "code",
   "execution_count": 9,
   "metadata": {},
   "outputs": [
    {
     "data": {
      "text/html": [
       "<div>\n",
       "<style scoped>\n",
       "    .dataframe tbody tr th:only-of-type {\n",
       "        vertical-align: middle;\n",
       "    }\n",
       "\n",
       "    .dataframe tbody tr th {\n",
       "        vertical-align: top;\n",
       "    }\n",
       "\n",
       "    .dataframe thead th {\n",
       "        text-align: right;\n",
       "    }\n",
       "</style>\n",
       "<table border=\"1\" class=\"dataframe\">\n",
       "  <thead>\n",
       "    <tr style=\"text-align: right;\">\n",
       "      <th></th>\n",
       "      <th>user_id</th>\n",
       "      <th>device_type</th>\n",
       "      <th>device_ram</th>\n",
       "      <th>device_rom</th>\n",
       "      <th>sex</th>\n",
       "      <th>age</th>\n",
       "      <th>education</th>\n",
       "      <th>occupation_status</th>\n",
       "      <th>territory_code</th>\n",
       "    </tr>\n",
       "  </thead>\n",
       "  <tbody>\n",
       "    <tr>\n",
       "      <th>0</th>\n",
       "      <td>10209854</td>\n",
       "      <td>2.0</td>\n",
       "      <td>5731</td>\n",
       "      <td>109581</td>\n",
       "      <td>1.0</td>\n",
       "      <td>2.0</td>\n",
       "      <td>0.0</td>\n",
       "      <td>1.0</td>\n",
       "      <td>865101.0</td>\n",
       "    </tr>\n",
       "    <tr>\n",
       "      <th>1</th>\n",
       "      <td>10230057</td>\n",
       "      <td>2.0</td>\n",
       "      <td>1877</td>\n",
       "      <td>20888</td>\n",
       "      <td>1.0</td>\n",
       "      <td>4.0</td>\n",
       "      <td>0.0</td>\n",
       "      <td>1.0</td>\n",
       "      <td>864102.0</td>\n",
       "    </tr>\n",
       "    <tr>\n",
       "      <th>2</th>\n",
       "      <td>10194990</td>\n",
       "      <td>2.0</td>\n",
       "      <td>7593</td>\n",
       "      <td>235438</td>\n",
       "      <td>2.0</td>\n",
       "      <td>3.0</td>\n",
       "      <td>1.0</td>\n",
       "      <td>1.0</td>\n",
       "      <td>866540.0</td>\n",
       "    </tr>\n",
       "    <tr>\n",
       "      <th>3</th>\n",
       "      <td>10046058</td>\n",
       "      <td>2.0</td>\n",
       "      <td>NaN</td>\n",
       "      <td>55137</td>\n",
       "      <td>1.0</td>\n",
       "      <td>4.0</td>\n",
       "      <td>0.0</td>\n",
       "      <td>1.0</td>\n",
       "      <td>NaN</td>\n",
       "    </tr>\n",
       "    <tr>\n",
       "      <th>4</th>\n",
       "      <td>10290885</td>\n",
       "      <td>2.0</td>\n",
       "      <td>2816</td>\n",
       "      <td>52431</td>\n",
       "      <td>1.0</td>\n",
       "      <td>4.0</td>\n",
       "      <td>0.0</td>\n",
       "      <td>0.0</td>\n",
       "      <td>NaN</td>\n",
       "    </tr>\n",
       "  </tbody>\n",
       "</table>\n",
       "</div>"
      ],
      "text/plain": [
       "    user_id  device_type device_ram device_rom  sex  age  education  \\\n",
       "0  10209854          2.0       5731     109581  1.0  2.0        0.0   \n",
       "1  10230057          2.0       1877      20888  1.0  4.0        0.0   \n",
       "2  10194990          2.0       7593     235438  2.0  3.0        1.0   \n",
       "3  10046058          2.0        NaN      55137  1.0  4.0        0.0   \n",
       "4  10290885          2.0       2816      52431  1.0  4.0        0.0   \n",
       "\n",
       "   occupation_status  territory_code  \n",
       "0                1.0        865101.0  \n",
       "1                1.0        864102.0  \n",
       "2                1.0        866540.0  \n",
       "3                1.0             NaN  \n",
       "4                0.0             NaN  "
      ]
     },
     "execution_count": 9,
     "metadata": {},
     "output_type": "execute_result"
    }
   ],
   "source": [
    "user.head()\n",
    "# id，设备类型，设备ram，设备rom，性别，年龄，教育信息，职业状态，邮编"
   ]
  },
  {
   "cell_type": "markdown",
   "metadata": {},
   "source": [
    "## 缺失值与重复值"
   ]
  },
  {
   "cell_type": "code",
   "execution_count": 10,
   "metadata": {},
   "outputs": [
    {
     "data": {
      "text/plain": [
       "596905"
      ]
     },
     "execution_count": 10,
     "metadata": {},
     "output_type": "execute_result"
    }
   ],
   "source": [
    "user['user_id'].unique().__len__()"
   ]
  },
  {
   "cell_type": "code",
   "execution_count": 11,
   "metadata": {},
   "outputs": [
    {
     "data": {
      "text/plain": [
       "user_id                  0\n",
       "device_type            339\n",
       "device_ram           37772\n",
       "device_rom           28434\n",
       "sex                   6447\n",
       "age                   7738\n",
       "education            11003\n",
       "occupation_status     7983\n",
       "territory_code       37281\n",
       "dtype: int64"
      ]
     },
     "execution_count": 11,
     "metadata": {},
     "output_type": "execute_result"
    }
   ],
   "source": [
    "user.isnull().sum()"
   ]
  },
  {
   "cell_type": "markdown",
   "metadata": {},
   "source": [
    "## 缺失值填补"
   ]
  },
  {
   "cell_type": "code",
   "execution_count": 12,
   "metadata": {},
   "outputs": [
    {
     "name": "stdout",
     "output_type": "stream",
     "text": [
      "<class 'pandas.core.frame.DataFrame'>\n",
      "RangeIndex: 596906 entries, 0 to 596905\n",
      "Data columns (total 9 columns):\n",
      " #   Column             Non-Null Count   Dtype  \n",
      "---  ------             --------------   -----  \n",
      " 0   user_id            596906 non-null  int64  \n",
      " 1   device_type        596567 non-null  float64\n",
      " 2   device_ram         559134 non-null  object \n",
      " 3   device_rom         568472 non-null  object \n",
      " 4   sex                590459 non-null  float64\n",
      " 5   age                589168 non-null  float64\n",
      " 6   education          585903 non-null  float64\n",
      " 7   occupation_status  588923 non-null  float64\n",
      " 8   territory_code     559625 non-null  float64\n",
      "dtypes: float64(6), int64(1), object(2)\n",
      "memory usage: 41.0+ MB\n"
     ]
    }
   ],
   "source": [
    "# 数据类型确定，除了ram和rom是object类型，其他都是数字类型\n",
    "user.info()"
   ]
  },
  {
   "cell_type": "code",
   "execution_count": 13,
   "metadata": {},
   "outputs": [
    {
     "data": {
      "text/plain": [
       "age\n",
       "3.0    254250\n",
       "4.0    201286\n",
       "2.0     80789\n",
       "5.0     37283\n",
       "1.0     15560\n",
       "Name: count, dtype: int64"
      ]
     },
     "execution_count": 13,
     "metadata": {},
     "output_type": "execute_result"
    }
   ],
   "source": [
    "# 离散型使用众数，连续型使用均值填充\n",
    "user['age'].value_counts()\n",
    "# 年龄已经划分称年龄段了"
   ]
  },
  {
   "cell_type": "code",
   "execution_count": 14,
   "metadata": {},
   "outputs": [],
   "source": [
    "# 所以每一个属性都填充众数即可\n",
    "for column in user.columns:\n",
    "    user[column] = user[column].fillna(user[column].value_counts().index[0])\n",
    "# .mode() 会直接返回众数，但是对于ram和rom两个object类型就无法使用了"
   ]
  },
  {
   "cell_type": "code",
   "execution_count": 15,
   "metadata": {},
   "outputs": [
    {
     "data": {
      "text/plain": [
       "user_id              0\n",
       "device_type          0\n",
       "device_ram           0\n",
       "device_rom           0\n",
       "sex                  0\n",
       "age                  0\n",
       "education            0\n",
       "occupation_status    0\n",
       "territory_code       0\n",
       "dtype: int64"
      ]
     },
     "execution_count": 15,
     "metadata": {},
     "output_type": "execute_result"
    }
   ],
   "source": [
    "user.isnull().sum() # 填充完成"
   ]
  },
  {
   "cell_type": "code",
   "execution_count": 16,
   "metadata": {},
   "outputs": [],
   "source": [
    "# user['device_ram'].astype('float')\n",
    "# 尝试将ram转换为float类型，发现报错：7625;3595，可能是用户使用多个设备登录，rom信息也是一样"
   ]
  },
  {
   "cell_type": "code",
   "execution_count": 17,
   "metadata": {},
   "outputs": [
    {
     "data": {
      "text/html": [
       "<div>\n",
       "<style scoped>\n",
       "    .dataframe tbody tr th:only-of-type {\n",
       "        vertical-align: middle;\n",
       "    }\n",
       "\n",
       "    .dataframe tbody tr th {\n",
       "        vertical-align: top;\n",
       "    }\n",
       "\n",
       "    .dataframe thead th {\n",
       "        text-align: right;\n",
       "    }\n",
       "</style>\n",
       "<table border=\"1\" class=\"dataframe\">\n",
       "  <thead>\n",
       "    <tr style=\"text-align: right;\">\n",
       "      <th></th>\n",
       "      <th>user_id</th>\n",
       "      <th>device_type</th>\n",
       "      <th>device_ram</th>\n",
       "      <th>device_rom</th>\n",
       "      <th>sex</th>\n",
       "      <th>age</th>\n",
       "      <th>education</th>\n",
       "      <th>occupation_status</th>\n",
       "      <th>territory_code</th>\n",
       "    </tr>\n",
       "  </thead>\n",
       "  <tbody>\n",
       "    <tr>\n",
       "      <th>5289</th>\n",
       "      <td>10124806</td>\n",
       "      <td>2.0</td>\n",
       "      <td>7625;3595</td>\n",
       "      <td>55034;111304</td>\n",
       "      <td>2.0</td>\n",
       "      <td>3.0</td>\n",
       "      <td>0.0</td>\n",
       "      <td>1.0</td>\n",
       "      <td>862102.0</td>\n",
       "    </tr>\n",
       "    <tr>\n",
       "      <th>5732</th>\n",
       "      <td>10040742</td>\n",
       "      <td>2.0</td>\n",
       "      <td>7547;7567</td>\n",
       "      <td>111934</td>\n",
       "      <td>2.0</td>\n",
       "      <td>3.0</td>\n",
       "      <td>0.0</td>\n",
       "      <td>1.0</td>\n",
       "      <td>865307.0</td>\n",
       "    </tr>\n",
       "    <tr>\n",
       "      <th>7640</th>\n",
       "      <td>10534577</td>\n",
       "      <td>2.0</td>\n",
       "      <td>7396;7394</td>\n",
       "      <td>232167</td>\n",
       "      <td>2.0</td>\n",
       "      <td>4.0</td>\n",
       "      <td>2.0</td>\n",
       "      <td>1.0</td>\n",
       "      <td>862301.0</td>\n",
       "    </tr>\n",
       "    <tr>\n",
       "      <th>8921</th>\n",
       "      <td>10299809</td>\n",
       "      <td>2.0</td>\n",
       "      <td>3656;5664</td>\n",
       "      <td>110757;110069</td>\n",
       "      <td>1.0</td>\n",
       "      <td>2.0</td>\n",
       "      <td>0.0</td>\n",
       "      <td>1.0</td>\n",
       "      <td>864602.0</td>\n",
       "    </tr>\n",
       "    <tr>\n",
       "      <th>12574</th>\n",
       "      <td>10280999</td>\n",
       "      <td>2.0</td>\n",
       "      <td>7705;7690</td>\n",
       "      <td>112564</td>\n",
       "      <td>2.0</td>\n",
       "      <td>4.0</td>\n",
       "      <td>0.0</td>\n",
       "      <td>1.0</td>\n",
       "      <td>864101.0</td>\n",
       "    </tr>\n",
       "    <tr>\n",
       "      <th>...</th>\n",
       "      <td>...</td>\n",
       "      <td>...</td>\n",
       "      <td>...</td>\n",
       "      <td>...</td>\n",
       "      <td>...</td>\n",
       "      <td>...</td>\n",
       "      <td>...</td>\n",
       "      <td>...</td>\n",
       "      <td>...</td>\n",
       "    </tr>\n",
       "    <tr>\n",
       "      <th>584623</th>\n",
       "      <td>10172269</td>\n",
       "      <td>2.0</td>\n",
       "      <td>5734;11276</td>\n",
       "      <td>459930;102410</td>\n",
       "      <td>2.0</td>\n",
       "      <td>3.0</td>\n",
       "      <td>1.0</td>\n",
       "      <td>1.0</td>\n",
       "      <td>864110.0</td>\n",
       "    </tr>\n",
       "    <tr>\n",
       "      <th>585043</th>\n",
       "      <td>10263938</td>\n",
       "      <td>2.0</td>\n",
       "      <td>11388;3711</td>\n",
       "      <td>231151;53313</td>\n",
       "      <td>1.0</td>\n",
       "      <td>3.0</td>\n",
       "      <td>0.0</td>\n",
       "      <td>1.0</td>\n",
       "      <td>864414.0</td>\n",
       "    </tr>\n",
       "    <tr>\n",
       "      <th>587763</th>\n",
       "      <td>10268110</td>\n",
       "      <td>2.0</td>\n",
       "      <td>5666;5621</td>\n",
       "      <td>111289;227939</td>\n",
       "      <td>1.0</td>\n",
       "      <td>4.0</td>\n",
       "      <td>0.0</td>\n",
       "      <td>1.0</td>\n",
       "      <td>863208.0</td>\n",
       "    </tr>\n",
       "    <tr>\n",
       "      <th>591167</th>\n",
       "      <td>10053920</td>\n",
       "      <td>2.0</td>\n",
       "      <td>5666;5634</td>\n",
       "      <td>110022;111225</td>\n",
       "      <td>2.0</td>\n",
       "      <td>4.0</td>\n",
       "      <td>2.0</td>\n",
       "      <td>1.0</td>\n",
       "      <td>863201.0</td>\n",
       "    </tr>\n",
       "    <tr>\n",
       "      <th>592656</th>\n",
       "      <td>10426454</td>\n",
       "      <td>1.0</td>\n",
       "      <td>5987;5988</td>\n",
       "      <td>255881</td>\n",
       "      <td>2.0</td>\n",
       "      <td>3.0</td>\n",
       "      <td>2.0</td>\n",
       "      <td>1.0</td>\n",
       "      <td>863303.0</td>\n",
       "    </tr>\n",
       "  </tbody>\n",
       "</table>\n",
       "<p>194 rows × 9 columns</p>\n",
       "</div>"
      ],
      "text/plain": [
       "         user_id  device_type  device_ram     device_rom  sex  age  education  \\\n",
       "5289    10124806          2.0   7625;3595   55034;111304  2.0  3.0        0.0   \n",
       "5732    10040742          2.0   7547;7567         111934  2.0  3.0        0.0   \n",
       "7640    10534577          2.0   7396;7394         232167  2.0  4.0        2.0   \n",
       "8921    10299809          2.0   3656;5664  110757;110069  1.0  2.0        0.0   \n",
       "12574   10280999          2.0   7705;7690         112564  2.0  4.0        0.0   \n",
       "...          ...          ...         ...            ...  ...  ...        ...   \n",
       "584623  10172269          2.0  5734;11276  459930;102410  2.0  3.0        1.0   \n",
       "585043  10263938          2.0  11388;3711   231151;53313  1.0  3.0        0.0   \n",
       "587763  10268110          2.0   5666;5621  111289;227939  1.0  4.0        0.0   \n",
       "591167  10053920          2.0   5666;5634  110022;111225  2.0  4.0        2.0   \n",
       "592656  10426454          1.0   5987;5988         255881  2.0  3.0        2.0   \n",
       "\n",
       "        occupation_status  territory_code  \n",
       "5289                  1.0        862102.0  \n",
       "5732                  1.0        865307.0  \n",
       "7640                  1.0        862301.0  \n",
       "8921                  1.0        864602.0  \n",
       "12574                 1.0        864101.0  \n",
       "...                   ...             ...  \n",
       "584623                1.0        864110.0  \n",
       "585043                1.0        864414.0  \n",
       "587763                1.0        863208.0  \n",
       "591167                1.0        863201.0  \n",
       "592656                1.0        863303.0  \n",
       "\n",
       "[194 rows x 9 columns]"
      ]
     },
     "execution_count": 17,
     "metadata": {},
     "output_type": "execute_result"
    }
   ],
   "source": [
    "user.loc[user[\"device_ram\"].str.contains(';')]"
   ]
  },
  {
   "cell_type": "code",
   "execution_count": 18,
   "metadata": {},
   "outputs": [
    {
     "data": {
      "text/html": [
       "<div>\n",
       "<style scoped>\n",
       "    .dataframe tbody tr th:only-of-type {\n",
       "        vertical-align: middle;\n",
       "    }\n",
       "\n",
       "    .dataframe tbody tr th {\n",
       "        vertical-align: top;\n",
       "    }\n",
       "\n",
       "    .dataframe thead th {\n",
       "        text-align: right;\n",
       "    }\n",
       "</style>\n",
       "<table border=\"1\" class=\"dataframe\">\n",
       "  <thead>\n",
       "    <tr style=\"text-align: right;\">\n",
       "      <th></th>\n",
       "      <th>user_id</th>\n",
       "      <th>device_type</th>\n",
       "      <th>device_ram</th>\n",
       "      <th>device_rom</th>\n",
       "      <th>sex</th>\n",
       "      <th>age</th>\n",
       "      <th>education</th>\n",
       "      <th>occupation_status</th>\n",
       "      <th>territory_code</th>\n",
       "    </tr>\n",
       "  </thead>\n",
       "  <tbody>\n",
       "    <tr>\n",
       "      <th>2766</th>\n",
       "      <td>10046846</td>\n",
       "      <td>2.0</td>\n",
       "      <td>3590</td>\n",
       "      <td>51872;52472</td>\n",
       "      <td>2.0</td>\n",
       "      <td>4.0</td>\n",
       "      <td>0.0</td>\n",
       "      <td>0.0</td>\n",
       "      <td>864512.0</td>\n",
       "    </tr>\n",
       "    <tr>\n",
       "      <th>5289</th>\n",
       "      <td>10124806</td>\n",
       "      <td>2.0</td>\n",
       "      <td>7625;3595</td>\n",
       "      <td>55034;111304</td>\n",
       "      <td>2.0</td>\n",
       "      <td>3.0</td>\n",
       "      <td>0.0</td>\n",
       "      <td>1.0</td>\n",
       "      <td>862102.0</td>\n",
       "    </tr>\n",
       "    <tr>\n",
       "      <th>7797</th>\n",
       "      <td>10207344</td>\n",
       "      <td>2.0</td>\n",
       "      <td>7625</td>\n",
       "      <td>228635;228835</td>\n",
       "      <td>1.0</td>\n",
       "      <td>3.0</td>\n",
       "      <td>0.0</td>\n",
       "      <td>1.0</td>\n",
       "      <td>863701.0</td>\n",
       "    </tr>\n",
       "    <tr>\n",
       "      <th>8921</th>\n",
       "      <td>10299809</td>\n",
       "      <td>2.0</td>\n",
       "      <td>3656;5664</td>\n",
       "      <td>110757;110069</td>\n",
       "      <td>1.0</td>\n",
       "      <td>2.0</td>\n",
       "      <td>0.0</td>\n",
       "      <td>1.0</td>\n",
       "      <td>864602.0</td>\n",
       "    </tr>\n",
       "    <tr>\n",
       "      <th>16212</th>\n",
       "      <td>10484382</td>\n",
       "      <td>2.0</td>\n",
       "      <td>2805</td>\n",
       "      <td>52170;52370</td>\n",
       "      <td>2.0</td>\n",
       "      <td>2.0</td>\n",
       "      <td>0.0</td>\n",
       "      <td>0.0</td>\n",
       "      <td>863416.0</td>\n",
       "    </tr>\n",
       "    <tr>\n",
       "      <th>...</th>\n",
       "      <td>...</td>\n",
       "      <td>...</td>\n",
       "      <td>...</td>\n",
       "      <td>...</td>\n",
       "      <td>...</td>\n",
       "      <td>...</td>\n",
       "      <td>...</td>\n",
       "      <td>...</td>\n",
       "      <td>...</td>\n",
       "    </tr>\n",
       "    <tr>\n",
       "      <th>586482</th>\n",
       "      <td>10371710</td>\n",
       "      <td>2.0</td>\n",
       "      <td>5725</td>\n",
       "      <td>53693;53673</td>\n",
       "      <td>1.0</td>\n",
       "      <td>4.0</td>\n",
       "      <td>1.0</td>\n",
       "      <td>1.0</td>\n",
       "      <td>864403.0</td>\n",
       "    </tr>\n",
       "    <tr>\n",
       "      <th>587763</th>\n",
       "      <td>10268110</td>\n",
       "      <td>2.0</td>\n",
       "      <td>5666;5621</td>\n",
       "      <td>111289;227939</td>\n",
       "      <td>1.0</td>\n",
       "      <td>4.0</td>\n",
       "      <td>0.0</td>\n",
       "      <td>1.0</td>\n",
       "      <td>863208.0</td>\n",
       "    </tr>\n",
       "    <tr>\n",
       "      <th>591167</th>\n",
       "      <td>10053920</td>\n",
       "      <td>2.0</td>\n",
       "      <td>5666;5634</td>\n",
       "      <td>110022;111225</td>\n",
       "      <td>2.0</td>\n",
       "      <td>4.0</td>\n",
       "      <td>2.0</td>\n",
       "      <td>1.0</td>\n",
       "      <td>863201.0</td>\n",
       "    </tr>\n",
       "    <tr>\n",
       "      <th>591547</th>\n",
       "      <td>10149577</td>\n",
       "      <td>2.0</td>\n",
       "      <td>1860</td>\n",
       "      <td>3760;10363</td>\n",
       "      <td>2.0</td>\n",
       "      <td>2.0</td>\n",
       "      <td>0.0</td>\n",
       "      <td>0.0</td>\n",
       "      <td>864313.0</td>\n",
       "    </tr>\n",
       "    <tr>\n",
       "      <th>593964</th>\n",
       "      <td>10497074</td>\n",
       "      <td>1.0</td>\n",
       "      <td>3145</td>\n",
       "      <td>2671;2354;255989</td>\n",
       "      <td>1.0</td>\n",
       "      <td>4.0</td>\n",
       "      <td>1.0</td>\n",
       "      <td>1.0</td>\n",
       "      <td>863201.0</td>\n",
       "    </tr>\n",
       "  </tbody>\n",
       "</table>\n",
       "<p>250 rows × 9 columns</p>\n",
       "</div>"
      ],
      "text/plain": [
       "         user_id  device_type device_ram        device_rom  sex  age  \\\n",
       "2766    10046846          2.0       3590       51872;52472  2.0  4.0   \n",
       "5289    10124806          2.0  7625;3595      55034;111304  2.0  3.0   \n",
       "7797    10207344          2.0       7625     228635;228835  1.0  3.0   \n",
       "8921    10299809          2.0  3656;5664     110757;110069  1.0  2.0   \n",
       "16212   10484382          2.0       2805       52170;52370  2.0  2.0   \n",
       "...          ...          ...        ...               ...  ...  ...   \n",
       "586482  10371710          2.0       5725       53693;53673  1.0  4.0   \n",
       "587763  10268110          2.0  5666;5621     111289;227939  1.0  4.0   \n",
       "591167  10053920          2.0  5666;5634     110022;111225  2.0  4.0   \n",
       "591547  10149577          2.0       1860        3760;10363  2.0  2.0   \n",
       "593964  10497074          1.0       3145  2671;2354;255989  1.0  4.0   \n",
       "\n",
       "        education  occupation_status  territory_code  \n",
       "2766          0.0                0.0        864512.0  \n",
       "5289          0.0                1.0        862102.0  \n",
       "7797          0.0                1.0        863701.0  \n",
       "8921          0.0                1.0        864602.0  \n",
       "16212         0.0                0.0        863416.0  \n",
       "...           ...                ...             ...  \n",
       "586482        1.0                1.0        864403.0  \n",
       "587763        0.0                1.0        863208.0  \n",
       "591167        2.0                1.0        863201.0  \n",
       "591547        0.0                0.0        864313.0  \n",
       "593964        1.0                1.0        863201.0  \n",
       "\n",
       "[250 rows x 9 columns]"
      ]
     },
     "execution_count": 18,
     "metadata": {},
     "output_type": "execute_result"
    }
   ],
   "source": [
    "user.loc[user[\"device_rom\"].str.contains(';')]"
   ]
  },
  {
   "cell_type": "markdown",
   "metadata": {},
   "source": [
    "多种设备登录的情况不相同，通过观察和思考，我们直接取用户ram和rom最高规格的那一个即可"
   ]
  },
  {
   "cell_type": "code",
   "execution_count": 19,
   "metadata": {},
   "outputs": [],
   "source": [
    "def extract_max_value(value):\n",
    "    # 按 ';' 拆分，并转换为整数列表\n",
    "    parts = [int(x.replace('GB', '').strip()) for x in value.split(';')]\n",
    "    # 返回最大值\n",
    "    return max(parts)"
   ]
  },
  {
   "cell_type": "code",
   "execution_count": 29,
   "metadata": {},
   "outputs": [],
   "source": [
    "mask_rom = user[\"device_rom\"].str.contains(';', na=False)\n",
    "mask_ram = user[\"device_ram\"].str.contains(';', na=False)\n",
    "\n",
    "user.loc[mask_rom, \"device_rom\"] = user.loc[mask_rom, \"device_rom\"].apply(extract_max_value)\n",
    "user.loc[mask_ram, \"device_ram\"] = user.loc[mask_ram, \"device_ram\"].apply(extract_max_value)"
   ]
  },
  {
   "cell_type": "code",
   "execution_count": 31,
   "metadata": {},
   "outputs": [],
   "source": [
    "user['device_rom']=user['device_rom'].astype('float')\n",
    "user['device_ram']=user['device_ram'].astype('float')"
   ]
  },
  {
   "cell_type": "code",
   "execution_count": 32,
   "metadata": {},
   "outputs": [
    {
     "name": "stdout",
     "output_type": "stream",
     "text": [
      "<class 'pandas.core.frame.DataFrame'>\n",
      "RangeIndex: 596906 entries, 0 to 596905\n",
      "Data columns (total 9 columns):\n",
      " #   Column             Non-Null Count   Dtype  \n",
      "---  ------             --------------   -----  \n",
      " 0   user_id            596906 non-null  int64  \n",
      " 1   device_type        596906 non-null  float64\n",
      " 2   device_ram         596906 non-null  float64\n",
      " 3   device_rom         596906 non-null  float64\n",
      " 4   sex                596906 non-null  float64\n",
      " 5   age                596906 non-null  float64\n",
      " 6   education          596906 non-null  float64\n",
      " 7   occupation_status  596906 non-null  float64\n",
      " 8   territory_code     596906 non-null  float64\n",
      "dtypes: float64(8), int64(1)\n",
      "memory usage: 41.0 MB\n"
     ]
    }
   ],
   "source": [
    "user.info()"
   ]
  },
  {
   "cell_type": "code",
   "execution_count": 36,
   "metadata": {},
   "outputs": [
    {
     "data": {
      "text/plain": [
       "user_id              10299809.0\n",
       "device_type                 2.0\n",
       "device_ram               5664.0\n",
       "device_rom             110757.0\n",
       "sex                         1.0\n",
       "age                         2.0\n",
       "education                   0.0\n",
       "occupation_status           1.0\n",
       "territory_code         864602.0\n",
       "Name: 8921, dtype: float64"
      ]
     },
     "execution_count": 36,
     "metadata": {},
     "output_type": "execute_result"
    }
   ],
   "source": [
    "# 可以验证功能正确\n",
    "user.iloc[8921]"
   ]
  }
 ],
 "metadata": {
  "kernelspec": {
   "display_name": "Python 3",
   "language": "python",
   "name": "python3"
  },
  "language_info": {
   "codemirror_mode": {
    "name": "ipython",
    "version": 3
   },
   "file_extension": ".py",
   "mimetype": "text/x-python",
   "name": "python",
   "nbconvert_exporter": "python",
   "pygments_lexer": "ipython3",
   "version": "3.13.1"
  }
 },
 "nbformat": 4,
 "nbformat_minor": 2
}
