{
 "cells": [
  {
   "cell_type": "code",
   "execution_count": 1,
   "metadata": {},
   "outputs": [],
   "source": [
    "import numpy as np\n",
    "import pandas as pd\n",
    "import sklearn\n",
    "import matplotlib.pyplot as plt\n",
    "import matplotlib as mpl\n",
    "import seaborn as sns\n",
    "import time\n",
    "import re"
   ]
  },
  {
   "cell_type": "code",
   "execution_count": 11,
   "metadata": {},
   "outputs": [
    {
     "data": {
      "text/plain": [
       "8493878"
      ]
     },
     "execution_count": 11,
     "metadata": {},
     "output_type": "execute_result"
    }
   ],
   "source": [
    "launch = pd.read_csv('../data/app_launch_logs.csv')\n",
    "launch.shape[0]"
   ]
  },
  {
   "cell_type": "code",
   "execution_count": 12,
   "metadata": {},
   "outputs": [
    {
     "data": {
      "text/html": [
       "<div>\n",
       "<style scoped>\n",
       "    .dataframe tbody tr th:only-of-type {\n",
       "        vertical-align: middle;\n",
       "    }\n",
       "\n",
       "    .dataframe tbody tr th {\n",
       "        vertical-align: top;\n",
       "    }\n",
       "\n",
       "    .dataframe thead th {\n",
       "        text-align: right;\n",
       "    }\n",
       "</style>\n",
       "<table border=\"1\" class=\"dataframe\">\n",
       "  <thead>\n",
       "    <tr style=\"text-align: right;\">\n",
       "      <th></th>\n",
       "      <th>user_id</th>\n",
       "      <th>launch_type</th>\n",
       "      <th>date</th>\n",
       "    </tr>\n",
       "  </thead>\n",
       "  <tbody>\n",
       "    <tr>\n",
       "      <th>0</th>\n",
       "      <td>10157996</td>\n",
       "      <td>0</td>\n",
       "      <td>129</td>\n",
       "    </tr>\n",
       "    <tr>\n",
       "      <th>1</th>\n",
       "      <td>10139583</td>\n",
       "      <td>0</td>\n",
       "      <td>129</td>\n",
       "    </tr>\n",
       "    <tr>\n",
       "      <th>2</th>\n",
       "      <td>10277501</td>\n",
       "      <td>0</td>\n",
       "      <td>129</td>\n",
       "    </tr>\n",
       "    <tr>\n",
       "      <th>3</th>\n",
       "      <td>10099847</td>\n",
       "      <td>0</td>\n",
       "      <td>129</td>\n",
       "    </tr>\n",
       "    <tr>\n",
       "      <th>4</th>\n",
       "      <td>10532773</td>\n",
       "      <td>0</td>\n",
       "      <td>129</td>\n",
       "    </tr>\n",
       "  </tbody>\n",
       "</table>\n",
       "</div>"
      ],
      "text/plain": [
       "    user_id  launch_type  date\n",
       "0  10157996            0   129\n",
       "1  10139583            0   129\n",
       "2  10277501            0   129\n",
       "3  10099847            0   129\n",
       "4  10532773            0   129"
      ]
     },
     "execution_count": 12,
     "metadata": {},
     "output_type": "execute_result"
    }
   ],
   "source": [
    "launch.head()"
   ]
  },
  {
   "cell_type": "markdown",
   "metadata": {},
   "source": [
    "# 去重\n",
    "题目对用一个用户同一天内登录次数和登录方式不做要求，只要一天内登录了就算一次"
   ]
  },
  {
   "cell_type": "code",
   "execution_count": 13,
   "metadata": {},
   "outputs": [
    {
     "data": {
      "text/plain": [
       "user_id        0\n",
       "launch_type    0\n",
       "date           0\n",
       "dtype: int64"
      ]
     },
     "execution_count": 13,
     "metadata": {},
     "output_type": "execute_result"
    }
   ],
   "source": [
    "launch.isnull().sum()"
   ]
  },
  {
   "cell_type": "code",
   "execution_count": 14,
   "metadata": {},
   "outputs": [
    {
     "data": {
      "text/plain": [
       "8492342"
      ]
     },
     "execution_count": 14,
     "metadata": {},
     "output_type": "execute_result"
    }
   ],
   "source": [
    "launch.drop_duplicates().shape[0]"
   ]
  },
  {
   "cell_type": "code",
   "execution_count": 15,
   "metadata": {},
   "outputs": [],
   "source": [
    "# 在删除之后要重新建立索引\n",
    "launch=launch.drop_duplicates()\n",
    "launch.index = range(launch.shape[0])"
   ]
  },
  {
   "cell_type": "code",
   "execution_count": null,
   "metadata": {},
   "outputs": [
    {
     "data": {
      "text/plain": [
       "launch_type\n",
       "0    8109385\n",
       "1     382957\n",
       "Name: count, dtype: int64"
      ]
     },
     "execution_count": 17,
     "metadata": {},
     "output_type": "execute_result"
    }
   ],
   "source": [
    "launch['launch_type'].value_counts() #0类占主导，这个类别的特征就可以忽略"
   ]
  },
  {
   "cell_type": "code",
   "execution_count": 19,
   "metadata": {},
   "outputs": [
    {
     "data": {
      "text/plain": [
       "600000"
      ]
     },
     "execution_count": 19,
     "metadata": {},
     "output_type": "execute_result"
    }
   ],
   "source": [
    "launch['user_id'].unique().__len__()"
   ]
  },
  {
   "cell_type": "markdown",
   "metadata": {},
   "source": [
    "# 训练集和测试集日期存在重合\n",
    "但是大多数时候，同个用户的训练日期会早于测试日期"
   ]
  },
  {
   "cell_type": "code",
   "execution_count": 25,
   "metadata": {},
   "outputs": [
    {
     "data": {
      "text/plain": [
       "(np.int64(100), np.int64(222))"
      ]
     },
     "execution_count": 25,
     "metadata": {},
     "output_type": "execute_result"
    }
   ],
   "source": [
    "launch.loc[:,'date'].min(),launch.loc[:,'date'].max()"
   ]
  },
  {
   "cell_type": "markdown",
   "metadata": {},
   "source": [
    "# 用户登录大趋势"
   ]
  },
  {
   "cell_type": "code",
   "execution_count": 28,
   "metadata": {},
   "outputs": [
    {
     "data": {
      "text/html": [
       "<div>\n",
       "<style scoped>\n",
       "    .dataframe tbody tr th:only-of-type {\n",
       "        vertical-align: middle;\n",
       "    }\n",
       "\n",
       "    .dataframe tbody tr th {\n",
       "        vertical-align: top;\n",
       "    }\n",
       "\n",
       "    .dataframe thead th {\n",
       "        text-align: right;\n",
       "    }\n",
       "</style>\n",
       "<table border=\"1\" class=\"dataframe\">\n",
       "  <thead>\n",
       "    <tr style=\"text-align: right;\">\n",
       "      <th></th>\n",
       "      <th>user_id</th>\n",
       "      <th>launch_type</th>\n",
       "    </tr>\n",
       "    <tr>\n",
       "      <th>date</th>\n",
       "      <th></th>\n",
       "      <th></th>\n",
       "    </tr>\n",
       "  </thead>\n",
       "  <tbody>\n",
       "    <tr>\n",
       "      <th>100</th>\n",
       "      <td>39302</td>\n",
       "      <td>39302</td>\n",
       "    </tr>\n",
       "    <tr>\n",
       "      <th>101</th>\n",
       "      <td>39313</td>\n",
       "      <td>39313</td>\n",
       "    </tr>\n",
       "    <tr>\n",
       "      <th>102</th>\n",
       "      <td>39642</td>\n",
       "      <td>39642</td>\n",
       "    </tr>\n",
       "    <tr>\n",
       "      <th>103</th>\n",
       "      <td>39054</td>\n",
       "      <td>39054</td>\n",
       "    </tr>\n",
       "    <tr>\n",
       "      <th>104</th>\n",
       "      <td>36304</td>\n",
       "      <td>36304</td>\n",
       "    </tr>\n",
       "  </tbody>\n",
       "</table>\n",
       "</div>"
      ],
      "text/plain": [
       "      user_id  launch_type\n",
       "date                      \n",
       "100     39302        39302\n",
       "101     39313        39313\n",
       "102     39642        39642\n",
       "103     39054        39054\n",
       "104     36304        36304"
      ]
     },
     "execution_count": 28,
     "metadata": {},
     "output_type": "execute_result"
    }
   ],
   "source": [
    "df = launch.groupby('date').count()\n",
    "df.head()"
   ]
  },
  {
   "cell_type": "code",
   "execution_count": 42,
   "metadata": {},
   "outputs": [
    {
     "data": {
      "text/plain": [
       "([<matplotlib.axis.XTick at 0x21b08f99090>,\n",
       "  <matplotlib.axis.XTick at 0x21b090b0e10>,\n",
       "  <matplotlib.axis.XTick at 0x21b090b1590>,\n",
       "  <matplotlib.axis.XTick at 0x21b090b1d10>,\n",
       "  <matplotlib.axis.XTick at 0x21b090b2490>,\n",
       "  <matplotlib.axis.XTick at 0x21b090b2c10>,\n",
       "  <matplotlib.axis.XTick at 0x21b090b3390>,\n",
       "  <matplotlib.axis.XTick at 0x21b090b3b10>,\n",
       "  <matplotlib.axis.XTick at 0x21b090e02d0>,\n",
       "  <matplotlib.axis.XTick at 0x21b090e0a50>,\n",
       "  <matplotlib.axis.XTick at 0x21b090e11d0>,\n",
       "  <matplotlib.axis.XTick at 0x21b090e1950>,\n",
       "  <matplotlib.axis.XTick at 0x21b090e20d0>,\n",
       "  <matplotlib.axis.XTick at 0x21b090e2850>,\n",
       "  <matplotlib.axis.XTick at 0x21b090e2fd0>,\n",
       "  <matplotlib.axis.XTick at 0x21b090e3750>,\n",
       "  <matplotlib.axis.XTick at 0x21b090e3ed0>,\n",
       "  <matplotlib.axis.XTick at 0x21b09108690>],\n",
       " [Text(100, 0, '100'),\n",
       "  Text(107, 0, '107'),\n",
       "  Text(114, 0, '114'),\n",
       "  Text(121, 0, '121'),\n",
       "  Text(128, 0, '128'),\n",
       "  Text(135, 0, '135'),\n",
       "  Text(142, 0, '142'),\n",
       "  Text(149, 0, '149'),\n",
       "  Text(156, 0, '156'),\n",
       "  Text(163, 0, '163'),\n",
       "  Text(170, 0, '170'),\n",
       "  Text(177, 0, '177'),\n",
       "  Text(184, 0, '184'),\n",
       "  Text(191, 0, '191'),\n",
       "  Text(198, 0, '198'),\n",
       "  Text(205, 0, '205'),\n",
       "  Text(212, 0, '212'),\n",
       "  Text(219, 0, '219')])"
      ]
     },
     "execution_count": 42,
     "metadata": {},
     "output_type": "execute_result"
    },
    {
     "name": "stderr",
     "output_type": "stream",
     "text": [
      "findfont: Font family 'Simher' not found.\n",
      "findfont: Font family 'Simher' not found.\n",
      "findfont: Font family 'Simher' not found.\n",
      "findfont: Font family 'Simher' not found.\n",
      "findfont: Font family 'Simher' not found.\n",
      "findfont: Font family 'Simher' not found.\n",
      "findfont: Font family 'Simher' not found.\n",
      "findfont: Font family 'Simher' not found.\n",
      "findfont: Font family 'Simher' not found.\n",
      "findfont: Font family 'Simher' not found.\n",
      "findfont: Font family 'Simher' not found.\n",
      "findfont: Font family 'Simher' not found.\n",
      "findfont: Font family 'Simher' not found.\n",
      "findfont: Font family 'Simher' not found.\n",
      "findfont: Font family 'Simher' not found.\n",
      "findfont: Font family 'Simher' not found.\n",
      "findfont: Font family 'Simher' not found.\n",
      "findfont: Font family 'Simher' not found.\n",
      "findfont: Font family 'Simher' not found.\n",
      "findfont: Font family 'Simher' not found.\n",
      "findfont: Font family 'Simher' not found.\n",
      "findfont: Font family 'Simher' not found.\n",
      "findfont: Font family 'Simher' not found.\n",
      "findfont: Font family 'Simher' not found.\n",
      "findfont: Font family 'Simher' not found.\n",
      "findfont: Font family 'Simher' not found.\n",
      "findfont: Font family 'Simher' not found.\n",
      "findfont: Font family 'Simher' not found.\n",
      "findfont: Font family 'Simher' not found.\n",
      "findfont: Font family 'Simher' not found.\n",
      "findfont: Font family 'Simher' not found.\n",
      "findfont: Font family 'Simher' not found.\n",
      "findfont: Font family 'Simher' not found.\n",
      "findfont: Font family 'Simher' not found.\n",
      "findfont: Font family 'Simher' not found.\n",
      "findfont: Font family 'Simher' not found.\n",
      "findfont: Font family 'Simher' not found.\n",
      "findfont: Font family 'Simher' not found.\n",
      "findfont: Font family 'Simher' not found.\n",
      "findfont: Font family 'Simher' not found.\n",
      "findfont: Font family 'Simher' not found.\n",
      "findfont: Font family 'Simher' not found.\n",
      "findfont: Font family 'Simher' not found.\n",
      "findfont: Font family 'Simher' not found.\n",
      "findfont: Font family 'Simher' not found.\n",
      "findfont: Font family 'Simher' not found.\n",
      "findfont: Font family 'Simher' not found.\n",
      "findfont: Font family 'Simher' not found.\n",
      "findfont: Font family 'Simher' not found.\n",
      "findfont: Font family 'Simher' not found.\n",
      "findfont: Font family 'Simher' not found.\n",
      "findfont: Font family 'Simher' not found.\n",
      "findfont: Font family 'Simher' not found.\n",
      "findfont: Font family 'Simher' not found.\n",
      "findfont: Font family 'Simher' not found.\n",
      "findfont: Font family 'Simher' not found.\n",
      "findfont: Font family 'Simher' not found.\n",
      "findfont: Font family 'Simher' not found.\n",
      "findfont: Font family 'Simher' not found.\n",
      "findfont: Font family 'Simher' not found.\n",
      "findfont: Font family 'Simher' not found.\n",
      "findfont: Font family 'Simher' not found.\n",
      "findfont: Font family 'Simher' not found.\n",
      "findfont: Font family 'Simher' not found.\n",
      "findfont: Font family 'Simher' not found.\n",
      "findfont: Font family 'Simher' not found.\n",
      "findfont: Font family 'Simher' not found.\n",
      "findfont: Font family 'Simher' not found.\n",
      "findfont: Font family 'Simher' not found.\n",
      "findfont: Font family 'Simher' not found.\n",
      "findfont: Font family 'Simher' not found.\n",
      "findfont: Font family 'Simher' not found.\n",
      "findfont: Font family 'Simher' not found.\n",
      "findfont: Font family 'Simher' not found.\n",
      "findfont: Font family 'Simher' not found.\n",
      "findfont: Font family 'Simher' not found.\n",
      "findfont: Font family 'Simher' not found.\n",
      "findfont: Font family 'Simher' not found.\n",
      "findfont: Font family 'Simher' not found.\n",
      "findfont: Font family 'Simher' not found.\n",
      "findfont: Font family 'Simher' not found.\n",
      "findfont: Font family 'Simher' not found.\n",
      "findfont: Font family 'Simher' not found.\n",
      "findfont: Font family 'Simher' not found.\n",
      "findfont: Font family 'Simher' not found.\n",
      "findfont: Font family 'Simher' not found.\n",
      "findfont: Font family 'Simher' not found.\n",
      "findfont: Font family 'Simher' not found.\n",
      "findfont: Font family 'Simher' not found.\n",
      "findfont: Font family 'Simher' not found.\n",
      "findfont: Font family 'Simher' not found.\n",
      "findfont: Font family 'Simher' not found.\n",
      "findfont: Font family 'Simher' not found.\n",
      "findfont: Font family 'Simher' not found.\n",
      "findfont: Font family 'Simher' not found.\n",
      "findfont: Font family 'Simher' not found.\n",
      "findfont: Font family 'Simher' not found.\n",
      "findfont: Font family 'Simher' not found.\n",
      "findfont: Font family 'Simher' not found.\n",
      "findfont: Font family 'Simher' not found.\n"
     ]
    },
    {
     "data": {
      "image/png": "[encoded data removed]",
      "text/plain": [
       "<Figure size 3000x1800 with 1 Axes>"
      ]
     },
     "metadata": {},
     "output_type": "display_data"
    }
   ],
   "source": [
    "plt.figure(figsize=(15,9),dpi=200)\n",
    "plt.bar(df.index,df['user_id'],color='steelblue',alpha=0.7)\n",
    "plt.grid()\n",
    "plt.xticks(ticks=range(100,221,7),fontsize=14)"
   ]
  },
  {
   "cell_type": "markdown",
   "metadata": {},
   "source": [
    "可以看出大概呈现出一个正态分布，且每周都会有一个高峰"
   ]
  }
 ],
 "metadata": {
  "kernelspec": {
   "display_name": "Python 3",
   "language": "python",
   "name": "python3"
  },
  "language_info": {
   "codemirror_mode": {
    "name": "ipython",
    "version": 3
   },
   "file_extension": ".py",
   "mimetype": "text/x-python",
   "name": "python",
   "nbconvert_exporter": "python",
   "pygments_lexer": "ipython3",
   "version": "3.13.1"
  }
 },
 "nbformat": 4,
 "nbformat_minor": 2
}
