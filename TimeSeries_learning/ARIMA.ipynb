{
 "cells": [
  {
   "cell_type": "markdown",
   "metadata": {},
   "source": [
    "# AR自回归模型\n",
    "现在的结果依赖于<b>过去的积累</b>"
   ]
  },
  {
   "cell_type": "markdown",
   "metadata": {},
   "source": [
    "1. 不同时间点的标签值之间强相关\n",
    "2. 两个时间点之间相隔越远，相互之间影响越弱<br>\n",
    "p阶自回归模型，写作AR(p)：\n",
    "$$\n",
    "y_t=c+\\beta_1y_{t-1}+\\beta_2y_{t-2}+...+\\beta_py_{t-p}+z_t\n",
    "$$\n",
    "c是常数项，$z_t$代表在t时间点的白噪音，可将c和$z_t$合并成$\\beta_0$，p是唯一的超参数，通过PACF(偏相关系数)确定"
   ]
  },
  {
   "cell_type": "markdown",
   "metadata": {},
   "source": [
    "<b>AR(1)</b>在[0,t]上进行训练：\n",
    "- 求解$\\beta$:\n",
    "$$\n",
    "y_1 = \\beta_0+\\beta_1y_0\\\\\n",
    "y_2 = \\beta_0+\\beta_1y_1\\\\\n",
    "...\\\\\n",
    "y_t = \\beta_0+\\beta_1y_t-1\n",
    "$$\n",
    "- 预测[y(t+1),y(t+2)...]:\n",
    "$$\n",
    "\\hat{y_{(t+1)}}=\\beta_0+\\beta_1y_t\\\\\n",
    "\\hat{y_{(t+2)}}=\\beta_0+\\beta_1y_{(t+1)}\\\\\n",
    "\\hat{y_{(t+3)}}=\\beta_0+\\beta_1y_{(t+2)}\\\\\n",
    "...\n",
    "$$\n",
    "未来预测的结果会累加之前的结果"
   ]
  },
  {
   "cell_type": "markdown",
   "metadata": {},
   "source": [
    "# MA移动平均模型\n",
    "大部分时间序列相对稳定，但受到过去一段时间内，不可预料的偶然事件影响而波动<br>\n",
    "均值基本不动，但受到影响上下移动，故称为移动平均模型<br>\n",
    "q阶移动平均模型，写作MA(q):\n",
    "$$\n",
    "y_t=\\mu+\\epsilon_t+\\theta_1\\epsilon_{t-1}+\\theta_2\\epsilon_{t-2}+...+\\theta_q\\epsilon_{t-q}\n",
    "$$\n",
    "$\\theta$不为0，$\\mu$是均值，$\\epsilon$是对应时间的偶然影响，q由ACF(自相关系数)确定"
   ]
  },
  {
   "cell_type": "markdown",
   "metadata": {},
   "source": [
    "1. 长期趋势受历史标签及标签本身属性的影响，短期内是相对稳定的\n",
    "2. 不同时间点的标签值之间是关联的，但各种偶然事件在不同时间点上产生的影响之间相互独立。<br>\n",
    "此模型表达出时间并不是决定标签值的因素，偶然的影响可由真实值减去预测值得出：\n",
    "$$\n",
    "\\epsilon_t=y_t-\\hat{y_t}\n",
    "$$"
   ]
  },
  {
   "cell_type": "markdown",
   "metadata": {},
   "source": [
    "一般不把$\\mu$和$\\epsilon_t$合并成$\\theta_0$，因为：\n",
    "- 两个值按照不同的方式计算得出\n",
    "- 两个值分别代表了长期和短期影响"
   ]
  },
  {
   "cell_type": "markdown",
   "metadata": {},
   "source": [
    "MA(1)在[0,t]上进行训练：\n",
    "- 训练求解$\\theta$\n",
    "$$\n",
    "y_1=\\mu+\\epsilon_1+\\theta_1\\epsilon_0\\\\\n",
    "y_2=\\mu+\\epsilon_2+\\theta_1\\epsilon_1\\\\\n",
    "y_3=\\mu+\\epsilon_3+\\theta_1\\epsilon_2\\\\\n",
    "...\\\\\n",
    "y_t=\\mu+\\epsilon_t+\\theta_1\\epsilon_{(t-1)}\n",
    "$$\n",
    "- 预测[y(t+1),y(t+2)...]:\n",
    "$$\n",
    "\\hat{y_{(t+1)}}=\\mu+\\theta_1\\epsilon_t\\\\\n",
    "\\hat{y_{(t+2)}}=\\mu+\\theta_1\\epsilon_{(t+1)}\\\\\n",
    "\\hat{y_{(t+3)}}=\\mu+\\theta_1\\epsilon_{(t+2)}\\\\\n",
    "...\\\\\n",
    "\\hat{y_{(t+m)}}=\\mu+\\theta_1\\epsilon_{(t+m-1)}\n",
    "$$\n",
    "可以看到预测值是不包含影响值的，因为影响值=真实值-预测值"
   ]
  },
  {
   "cell_type": "markdown",
   "metadata": {},
   "source": [
    "在训练过程中，等号右边是全盲状态，我们要先给定初始参数值，然后通过参数估计方法(最小二乘、梯度下降等)对参数进行求解。<br>\n",
    "1. 假设$\\epsilon_0、\\mu、\\theta1$，可以根据公式计算出$\\epsilon_1$\n",
    "2. 将$\\epsilon_1$带入第二个公式，可以得出$\\epsilon_2$，如此反复可解出所有$\\epsilon$\n",
    "3. 求出预测值，[$\\hat{y1}、\\hat{y2}...$]，再使用参数估计方法更新迭代$\\mu$和$\\theta$\n",
    "4. 再带回训练方程，根据真实值进行参数估计方法更新迭代$\\mu$和$\\theta$"
   ]
  },
  {
   "cell_type": "markdown",
   "metadata": {},
   "source": [
    "# ARIMA模型"
   ]
  }
 ],
 "metadata": {
  "language_info": {
   "name": "python"
  }
 },
 "nbformat": 4,
 "nbformat_minor": 2
}
